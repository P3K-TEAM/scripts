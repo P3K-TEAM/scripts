{
 "cells": [
  {
   "cell_type": "code",
   "execution_count": null,
   "metadata": {
    "scrolled": false
   },
   "outputs": [],
   "source": [
    "import re\n",
    "import json\n",
    "\n",
    "with open(\"skwiki-20201101-pages-articles1.xml\", encoding='utf8') as f:\n",
    "            content = f.readlines()\n",
    "        \n",
    "json_file = open('file.json','w', encoding='utf8')\n",
    "\n",
    "  \n",
    "page = 0\n",
    "page_text = 0\n",
    "text = \"\"\n",
    "data_holder = []\n",
    "data = None\n",
    "\n",
    "\n",
    "for line in content:    \n",
    "    if re.search(\"</page\", line):\n",
    "        page = 0\n",
    "\n",
    "    if page == 1:\n",
    "        if re.search(\"<title>\", line):\n",
    "            page_title = re.findall(r'>.*<', line)\n",
    "            page_title = page_title[0].replace('>', '')\n",
    "            page_title = page_title.replace('<', '')\n",
    "\n",
    "        if re.search(\"<text\", line):\n",
    "            page_text = 1\n",
    "        if re.search(\"</text>\", line):\n",
    "            page_text = 0\n",
    "            text = text + line\n",
    "            data = { \n",
    "                \"title\": page_title, \n",
    "                \"raw_text\":  text\n",
    "            }\n",
    "            data_holder.append(data)            \n",
    "            text = \"\"\n",
    "\n",
    "    if page_text == 1:\n",
    "        text = text + line\n",
    "\n",
    "    if re.search(\"<page\", line):\n",
    "        page = 1 \n",
    "\n",
    "\n",
    "x = json.dumps(data_holder, indent=2)\n",
    "json_file.write(x)   \n",
    "json_file.close()"
   ]
  }
 ],
 "metadata": {
  "kernelspec": {
   "display_name": "Python 3",
   "language": "python",
   "name": "python3"
  },
  "language_info": {
   "codemirror_mode": {
    "name": "ipython",
    "version": 3
   },
   "file_extension": ".py",
   "mimetype": "text/x-python",
   "name": "python",
   "nbconvert_exporter": "python",
   "pygments_lexer": "ipython3",
   "version": "3.8.5"
  }
 },
 "nbformat": 4,
 "nbformat_minor": 4
}